{
 "cells": [
  {
   "cell_type": "markdown",
   "id": "153d3491",
   "metadata": {},
   "source": [
    "## Expand log file"
   ]
  },
  {
   "cell_type": "code",
   "execution_count": null,
   "id": "4c8483ee",
   "metadata": {},
   "outputs": [],
   "source": [
    "def save_list_to_file(path, thelist):\n",
    "    '''\n",
    "    Tool function to save a list to a .txt file\n",
    "    '''\n",
    "    with open(path, 'w') as f:\n",
    "        for item in thelist:\n",
    "            f.write(\"%s\" % item)"
   ]
  },
  {
   "cell_type": "code",
   "execution_count": null,
   "id": "08b01aa9",
   "metadata": {},
   "outputs": [],
   "source": [
    "with open('epoch_total_test_log_reproduction.txt','r') as f:\n",
    "    l = f.readlines()"
   ]
  },
  {
   "cell_type": "code",
   "execution_count": null,
   "id": "84559677",
   "metadata": {},
   "outputs": [],
   "source": [
    "filename = 'epoch_{}_test_log_reproduction.txt'\n",
    "for i in range(1, 150):\n",
    "    try:\n",
    "        idx = l.index('\\n')\n",
    "        save_list_to_file(filename.format(str(i)),l[:idx])\n",
    "        l = l[idx+1:]\n",
    "    except:\n",
    "        print(i)\n",
    "        save_list_to_file(filename.format(str(i)),l)"
   ]
  },
  {
   "cell_type": "markdown",
   "id": "92d30974",
   "metadata": {},
   "source": [
    "## Training curves"
   ]
  },
  {
   "cell_type": "code",
   "execution_count": null,
   "id": "934f42df",
   "metadata": {},
   "outputs": [],
   "source": [
    "import matplotlib.pyplot as plt"
   ]
  },
  {
   "cell_type": "code",
   "execution_count": null,
   "id": "20d195a7",
   "metadata": {},
   "outputs": [],
   "source": [
    "train_all = []\n",
    "train = []\n",
    "test = []\n",
    "\n",
    "src_path = 'logs/linemod/'\n",
    "filename_train = 'epoch_{}_log.txt'\n",
    "filename_test = 'epoch_{}_test_log.txt'\n",
    "nb_subepochs = 40000 / 800\n",
    "for epoch in range(1,171):\n",
    "    \n",
    "    with open(src_path + filename_train.format(str(epoch)),'r') as f:\n",
    "        current = 0\n",
    "        for l in f.readlines()[1:]:\n",
    "            train_all.append(float(l.split(' ')[-1][9:-2]))\n",
    "            current += train_all[-1]\n",
    "        current /= nb_subepochs\n",
    "        train.append(current)\n",
    "        \n",
    "    with open(src_path + filename_test.format(str(epoch)),'r') as f:\n",
    "        for l in f.readlines()[1:]:\n",
    "            test.append(float(l.split(' ')[-1][:-2]))"
   ]
  },
  {
   "cell_type": "code",
   "execution_count": null,
   "id": "dc49d599",
   "metadata": {
    "scrolled": false
   },
   "outputs": [],
   "source": [
    "plt.figure(figsize=(10,8))\n",
    "plt.plot(list(range(1,171)),train,label='train',color='r')\n",
    "plt.plot(list(range(1,171)),test,label='test',color='b')\n",
    "plt.title('Training curves RGB',size=20)\n",
    "plt.xlabel('Epoch', size=15)\n",
    "plt.ylabel('Average distance', size=15)\n",
    "plt.legend()\n",
    "plt.show()"
   ]
  },
  {
   "cell_type": "markdown",
   "id": "e3345749",
   "metadata": {},
   "source": [
    "## Training curves reproduction"
   ]
  },
  {
   "cell_type": "code",
   "execution_count": null,
   "id": "cf15e8f2",
   "metadata": {},
   "outputs": [],
   "source": [
    "train_all = []\n",
    "train = []\n",
    "test = []\n",
    "\n",
    "src_path = 'logs/linemod/'\n",
    "filename_train = 'epoch_{}_log_reproduction.txt'\n",
    "filename_test = 'epoch_{}_test_log_reproduction.txt'\n",
    "nb_subepochs = 40000 / 800\n",
    "for epoch in range(1,150):\n",
    "    \n",
    "    with open(src_path + filename_train.format(str(epoch)),'r') as f:\n",
    "        current = 0\n",
    "        for l in f.readlines()[1:]:\n",
    "            train_all.append(float(l.split(' ')[-1][9:-2]))\n",
    "            current += train_all[-1]\n",
    "        current /= nb_subepochs\n",
    "        train.append(current)\n",
    "        \n",
    "    with open(src_path + filename_test.format(str(epoch)),'r') as f:\n",
    "        for l in f.readlines()[1:]:\n",
    "            test.append(float(l.split(' ')[-1][:-2]))"
   ]
  },
  {
   "cell_type": "code",
   "execution_count": null,
   "id": "5e68eadb",
   "metadata": {},
   "outputs": [],
   "source": [
    "plt.figure(figsize=(10,8))\n",
    "plt.plot(list(range(1,150)),train,label='train',color='r')\n",
    "plt.plot(list(range(1,150)),test,label='test',color='b')\n",
    "plt.title('Training curves RGB-D',size=20)\n",
    "plt.xlabel('Epoch', size=15)\n",
    "plt.ylabel('Average distance', size=15)\n",
    "plt.legend()\n",
    "plt.show()"
   ]
  },
  {
   "cell_type": "markdown",
   "id": "720a0c35",
   "metadata": {},
   "source": [
    "## Plot evaluation results"
   ]
  },
  {
   "cell_type": "code",
   "execution_count": null,
   "id": "5b878168",
   "metadata": {},
   "outputs": [],
   "source": [
    "import matplotlib.pyplot as plt\n",
    "import numpy as np"
   ]
  },
  {
   "cell_type": "code",
   "execution_count": null,
   "id": "7f5b7274",
   "metadata": {},
   "outputs": [],
   "source": [
    "diameters = [\n",
    "    0.10209865663,\n",
    "    0.24750624233,\n",
    "    0.17249224865,\n",
    "    0.20140358597000002,\n",
    "    0.15454551808,\n",
    "    0.26147178102,\n",
    "    0.10899920102000001,\n",
    "    0.14554287471000002,\n",
    "    0.27807811733,\n",
    "    0.28260129399,\n",
    "    0.212335825148,\n",
    "]\n",
    "\n",
    "objlist = ['01', '02', '04', '05', '06', '08', '09', '12', '13', '14', '15']\n",
    "obj_diameters = []\n",
    "for idx,obj in enumerate(objlist):\n",
    "    with open('../datasets/linemod/Linemod_preprocessed/data/{}/test.txt'.format(obj),'r') as f:\n",
    "        if not idx:\n",
    "            obj_diameters += (len(f.readlines())-1)*[diameters[idx]]\n",
    "        else:\n",
    "            obj_diameters += len(f.readlines())*[diameters[idx]]\n",
    "obj_diameters = np.array(obj_diameters)"
   ]
  },
  {
   "cell_type": "code",
   "execution_count": null,
   "id": "d32a38c0",
   "metadata": {
    "scrolled": true
   },
   "outputs": [],
   "source": [
    "dists_rgb = []\n",
    "with open('eval_result/linemod/eval_result_logs_RGB_final.txt','r') as f:\n",
    "    for line in f.readlines():\n",
    "        dists_rgb.append(float(line.split(' ')[-1][:-2]))\n",
    "f.close()\n",
    "dists_rgb = np.array(dists_rgb)\n",
    "\n",
    "dists_tdepth = []\n",
    "with open('eval_result/linemod/eval_result_logs_TransDepth.txt','r') as f:\n",
    "    for line in f.readlines():\n",
    "        dists_tdepth.append(float(line.split(' ')[-1][:-2]))\n",
    "f.close()\n",
    "dists_tdepth = np.array(dists_tdepth)\n",
    "\n",
    "dists_rmv_icp = []\n",
    "with open('eval_result/linemod/eval_result_logs_rmv_icp.txt','r') as f:\n",
    "    for line in f.readlines():\n",
    "        dists_rmv_icp.append(float(line.split(' ')[-1][:-2]))\n",
    "f.close()\n",
    "dists_rmv_icp = np.array(dists_rmv_icp)"
   ]
  },
  {
   "cell_type": "code",
   "execution_count": null,
   "id": "4b102e57",
   "metadata": {},
   "outputs": [],
   "source": [
    "tolerance = np.linspace(0.1,1,10)\n",
    "rgb_avg_acc = []\n",
    "tdepth_avg_acc = []\n",
    "rmv_icp_avg_acc = []\n",
    "for t in tolerance:\n",
    "    rgb_avg_acc.append(1 - np.count_nonzero(np.clip(dists_rgb - t*obj_diameters,0,None)) / len(dists_rgb))\n",
    "    tdepth_avg_acc.append(1 - np.count_nonzero(np.clip(dists_tdepth - t*obj_diameters,0,None)) / len(dists_tdepth))\n",
    "    rmv_icp_avg_acc.append(1 - np.count_nonzero(np.clip(dists_rmv_icp - t*obj_diameters,0,None)) / len(dists_rmv_icp))\n",
    "\n",
    "plt.figure(figsize=(10,6))\n",
    "plt.plot(tolerance, rgb_avg_acc, label='RGB', color='r')\n",
    "#plt.plot(tolerance, tdepth_avg_acc, label='trans_depth', color='b')\n",
    "plt.plot(tolerance, rmv_icp_avg_acc, label='RGB-D per-pixel', color='y')\n",
    "#plt.title('Evaluation average accuracy',size=20)\n",
    "plt.xlabel('Diameter tolerance', size=15)\n",
    "plt.ylabel('Matching score', size=15)\n",
    "plt.legend()\n",
    "plt.show()"
   ]
  },
  {
   "cell_type": "markdown",
   "id": "49f660e9",
   "metadata": {},
   "source": [
    "## Pose results visualization"
   ]
  },
  {
   "cell_type": "code",
   "execution_count": null,
   "id": "7db2b6ca",
   "metadata": {},
   "outputs": [],
   "source": [
    "def crop_center(img,cropx,cropy):\n",
    "    y,x,z = img.shape\n",
    "    startx = x//2-(cropx//2)\n",
    "    starty = y//2-(cropy//2)    \n",
    "    return img[starty:starty+cropy,startx:startx+cropx,:]"
   ]
  },
  {
   "cell_type": "code",
   "execution_count": null,
   "id": "2da991b9",
   "metadata": {},
   "outputs": [],
   "source": [
    "adds = [2.27,5.34,1.0]\n",
    "#adds = [3.2,9.2,5.1]\n",
    "imgs = ['0029','0056','0287']\n",
    "#imgs = ['0578','0626','0951']\n",
    "fig, ax = plt.subplots(nrows=1,ncols=3,figsize=(15,10))\n",
    "i = 0\n",
    "for add, img in zip(adds,imgs):\n",
    "    ax[i].imshow(crop_center(plt.imread('../../rendus/images/{}.png'.format(img)), 250,250))\n",
    "    ax[i].axis('off')\n",
    "    ax[i].set_title('ADD = '+str(add)+' cm')\n",
    "    i += 1"
   ]
  }
 ],
 "metadata": {
  "kernelspec": {
   "display_name": "Python 3 (ipykernel)",
   "language": "python",
   "name": "python3"
  },
  "language_info": {
   "codemirror_mode": {
    "name": "ipython",
    "version": 3
   },
   "file_extension": ".py",
   "mimetype": "text/x-python",
   "name": "python",
   "nbconvert_exporter": "python",
   "pygments_lexer": "ipython3",
   "version": "3.7.9"
  }
 },
 "nbformat": 4,
 "nbformat_minor": 5
}
